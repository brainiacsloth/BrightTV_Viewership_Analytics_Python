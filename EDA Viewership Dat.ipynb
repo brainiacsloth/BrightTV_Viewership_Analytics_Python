{
 "cells": [
  {
   "cell_type": "markdown",
   "metadata": {
    "application/vnd.databricks.v1+cell": {
     "cellMetadata": {
      "byteLimit": 2048000,
      "rowLimit": 10000
     },
     "inputWidgets": {},
     "nuid": "58034be7-66fd-4070-a1fd-0e38c88ab9e1",
     "showTitle": false,
     "tableResultSettingsMap": {},
     "title": ""
    }
   },
   "source": [
    "#Exploratory Data Analysis "
   ]
  },
  {
   "cell_type": "markdown",
   "metadata": {
    "application/vnd.databricks.v1+cell": {
     "cellMetadata": {
      "byteLimit": 2048000,
      "rowLimit": 10000
     },
     "inputWidgets": {},
     "nuid": "d313f46e-efcb-4718-bb79-bc591f675bf2",
     "showTitle": false,
     "tableResultSettingsMap": {},
     "title": ""
    }
   },
   "source": [
    "---\n",
    "## Metadata Description\n",
    "\n",
    "**Project Title:** BrightLearn Viewership Analysis  \n",
    "**Purpose:** To explore and understand viewership data from the BrightLearn platform.  \n",
    "**Goal:** Identify data quality issues, understand patterns, and prepare data for deeper analysis or modeling.  \n",
    "\n",
    "**Dataset Source:**  \n",
    "Loaded from a Spark table called `workspace.brightlearn.viewership_analysis`.  \n",
    "\n",
    "**Libraries Used:**  \n",
    "- **pandas:** For working with data in a table format, cleaning, and analysis.  \n",
    "- **numpy:** For handling numbers, calculations, and missing values.   \n",
    "\n",
    "**Main Tasks:**  \n",
    "1. Load the data from Spark.  \n",
    "2. Convert it into a pandas DataFrame.  \n",
    "3. Perform Exploratory Data Analysis (EDA):  \n",
    "   - Check data types and structure.  \n",
    "   - Investigate missing values and duplicates.  \n",
    "   - Explore distributions and summary statistics.  \n",
    "   - Identify potential data quality issues.  \n",
    "\n",
    "\n",
    "---\n"
   ]
  },
  {
   "cell_type": "markdown",
   "metadata": {
    "application/vnd.databricks.v1+cell": {
     "cellMetadata": {
      "byteLimit": 2048000,
      "rowLimit": 10000
     },
     "inputWidgets": {},
     "nuid": "f125525f-e4b8-4cf8-b2aa-3182d8eb1860",
     "showTitle": false,
     "tableResultSettingsMap": {},
     "title": ""
    }
   },
   "source": [
    "Load Libraries and Data"
   ]
  },
  {
   "cell_type": "code",
   "execution_count": 0,
   "metadata": {
    "application/vnd.databricks.v1+cell": {
     "cellMetadata": {
      "byteLimit": 2048000,
      "rowLimit": 10000
     },
     "inputWidgets": {},
     "nuid": "980e471f-41ca-41c0-a7bf-3c9fdcac9104",
     "showTitle": false,
     "tableResultSettingsMap": {},
     "title": ""
    }
   },
   "outputs": [
    {
     "output_type": "execute_result",
     "data": {
      "text/html": [
       "<div>\n",
       "<style scoped>\n",
       "    .dataframe tbody tr th:only-of-type {\n",
       "        vertical-align: middle;\n",
       "    }\n",
       "\n",
       "    .dataframe tbody tr th {\n",
       "        vertical-align: top;\n",
       "    }\n",
       "\n",
       "    .dataframe thead th {\n",
       "        text-align: right;\n",
       "    }\n",
       "</style>\n",
       "<table border=\"1\" class=\"dataframe\">\n",
       "  <thead>\n",
       "    <tr style=\"text-align: right;\">\n",
       "      <th></th>\n",
       "      <th>DateID</th>\n",
       "      <th>CustomerID</th>\n",
       "      <th>TotalTimeWatched</th>\n",
       "      <th>Platform</th>\n",
       "      <th>PlayEventType</th>\n",
       "      <th>VideoTitle</th>\n",
       "    </tr>\n",
       "  </thead>\n",
       "  <tbody>\n",
       "    <tr>\n",
       "      <th>0</th>\n",
       "      <td>20201101</td>\n",
       "      <td>EW1DENH0EC1J3M9WAOZF9LSV004O</td>\n",
       "      <td>300</td>\n",
       "      <td>Leanback</td>\n",
       "      <td>LiveTV</td>\n",
       "      <td>F1 '20: Emilia Romagna GP</td>\n",
       "    </tr>\n",
       "    <tr>\n",
       "      <th>1</th>\n",
       "      <td>20201101</td>\n",
       "      <td>EW1DENH0EC1J3M9WAOZF9LSV004O</td>\n",
       "      <td>300</td>\n",
       "      <td>Leanback</td>\n",
       "      <td>LiveTV</td>\n",
       "      <td>F1 '20: Emilia Romagna GP</td>\n",
       "    </tr>\n",
       "    <tr>\n",
       "      <th>2</th>\n",
       "      <td>20201101</td>\n",
       "      <td>6TS2LLY0L3G66FVY86Q0JEZE000K</td>\n",
       "      <td>360</td>\n",
       "      <td>Leanback</td>\n",
       "      <td>Other</td>\n",
       "      <td>Chasing The Sun</td>\n",
       "    </tr>\n",
       "    <tr>\n",
       "      <th>3</th>\n",
       "      <td>20201101</td>\n",
       "      <td>6TS2LLY0L3G66FVY86Q0JEZE000K</td>\n",
       "      <td>360</td>\n",
       "      <td>Leanback</td>\n",
       "      <td>Other</td>\n",
       "      <td>Chasing The Sun</td>\n",
       "    </tr>\n",
       "    <tr>\n",
       "      <th>4</th>\n",
       "      <td>20201101</td>\n",
       "      <td>6PMV67PLJ2S47S68J0Y30XFK003C</td>\n",
       "      <td>120</td>\n",
       "      <td>Leanback</td>\n",
       "      <td>LiveTV</td>\n",
       "      <td>Sonic The Hedgehog</td>\n",
       "    </tr>\n",
       "    <tr>\n",
       "      <th>5</th>\n",
       "      <td>20201101</td>\n",
       "      <td>6PMV67PLJ2S47S68J0Y30XFK003C</td>\n",
       "      <td>120</td>\n",
       "      <td>Leanback</td>\n",
       "      <td>LiveTV</td>\n",
       "      <td>Frozen II</td>\n",
       "    </tr>\n",
       "  </tbody>\n",
       "</table>\n",
       "</div>"
      ],
      "text/plain": [
       "     DateID  ...                 VideoTitle\n",
       "0  20201101  ...  F1 '20: Emilia Romagna GP\n",
       "1  20201101  ...  F1 '20: Emilia Romagna GP\n",
       "2  20201101  ...            Chasing The Sun\n",
       "3  20201101  ...            Chasing The Sun\n",
       "4  20201101  ...         Sonic The Hedgehog\n",
       "5  20201101  ...                  Frozen II\n",
       "\n",
       "[6 rows x 6 columns]"
      ]
     },
     "execution_count": 3,
     "metadata": {},
     "output_type": "execute_result"
    }
   ],
   "source": [
    "# I will use pandas because it helps me work with data in a table-like format, similar to Excel.\n",
    "# It allows me to clean, filter, and explore my dataset easily using simple functions.\n",
    "\n",
    "import pandas as pd\n",
    "\n",
    "# I will use numpy because it supports numerical operations and calculations.\n",
    "# It helps with things like averages, medians, standard deviations, and handling missing values (np.nan).\n",
    "\n",
    "import numpy as np\n",
    "\n",
    "df_spark = spark.table(\"workspace.brightlearn.viewership_analysis\")\n",
    "\n",
    "# Convert the Spark DataFrame into a pandas DataFrame for easier analysis\n",
    "df = df_spark.toPandas()\n",
    "\n",
    "# Preview the first few rows\n",
    "df.head(6)\n"
   ]
  },
  {
   "cell_type": "code",
   "execution_count": 0,
   "metadata": {
    "application/vnd.databricks.v1+cell": {
     "cellMetadata": {
      "byteLimit": 2048000,
      "rowLimit": 10000
     },
     "inputWidgets": {},
     "nuid": "af87e133-5b1a-4f75-b7fa-eda0fe90e3be",
     "showTitle": false,
     "tableResultSettingsMap": {},
     "title": ""
    }
   },
   "outputs": [
    {
     "output_type": "stream",
     "name": "stdout",
     "output_type": "stream",
     "text": [
      "<class 'pandas.core.frame.DataFrame'>\nRangeIndex: 118534 entries, 0 to 118533\nData columns (total 6 columns):\n #   Column            Non-Null Count   Dtype \n---  ------            --------------   ----- \n 0   DateID            118534 non-null  object\n 1   CustomerID        118534 non-null  object\n 2   TotalTimeWatched  118534 non-null  int64 \n 3   Platform          118534 non-null  object\n 4   PlayEventType     118534 non-null  object\n 5   VideoTitle        118534 non-null  object\ndtypes: int64(1), object(5)\nmemory usage: 5.4+ MB\n"
     ]
    },
    {
     "output_type": "execute_result",
     "data": {
      "text/html": [
       "<div>\n",
       "<style scoped>\n",
       "    .dataframe tbody tr th:only-of-type {\n",
       "        vertical-align: middle;\n",
       "    }\n",
       "\n",
       "    .dataframe tbody tr th {\n",
       "        vertical-align: top;\n",
       "    }\n",
       "\n",
       "    .dataframe thead th {\n",
       "        text-align: right;\n",
       "    }\n",
       "</style>\n",
       "<table border=\"1\" class=\"dataframe\">\n",
       "  <thead>\n",
       "    <tr style=\"text-align: right;\">\n",
       "      <th></th>\n",
       "      <th>DateID</th>\n",
       "      <th>CustomerID</th>\n",
       "      <th>TotalTimeWatched</th>\n",
       "      <th>Platform</th>\n",
       "      <th>PlayEventType</th>\n",
       "      <th>VideoTitle</th>\n",
       "    </tr>\n",
       "  </thead>\n",
       "  <tbody>\n",
       "    <tr>\n",
       "      <th>0</th>\n",
       "      <td>20201101</td>\n",
       "      <td>EW1DENH0EC1J3M9WAOZF9LSV004O</td>\n",
       "      <td>300</td>\n",
       "      <td>Leanback</td>\n",
       "      <td>LiveTV</td>\n",
       "      <td>F1 '20: Emilia Romagna GP</td>\n",
       "    </tr>\n",
       "    <tr>\n",
       "      <th>1</th>\n",
       "      <td>20201101</td>\n",
       "      <td>EW1DENH0EC1J3M9WAOZF9LSV004O</td>\n",
       "      <td>300</td>\n",
       "      <td>Leanback</td>\n",
       "      <td>LiveTV</td>\n",
       "      <td>F1 '20: Emilia Romagna GP</td>\n",
       "    </tr>\n",
       "    <tr>\n",
       "      <th>2</th>\n",
       "      <td>20201101</td>\n",
       "      <td>6TS2LLY0L3G66FVY86Q0JEZE000K</td>\n",
       "      <td>360</td>\n",
       "      <td>Leanback</td>\n",
       "      <td>Other</td>\n",
       "      <td>Chasing The Sun</td>\n",
       "    </tr>\n",
       "    <tr>\n",
       "      <th>3</th>\n",
       "      <td>20201101</td>\n",
       "      <td>6TS2LLY0L3G66FVY86Q0JEZE000K</td>\n",
       "      <td>360</td>\n",
       "      <td>Leanback</td>\n",
       "      <td>Other</td>\n",
       "      <td>Chasing The Sun</td>\n",
       "    </tr>\n",
       "    <tr>\n",
       "      <th>4</th>\n",
       "      <td>20201101</td>\n",
       "      <td>6PMV67PLJ2S47S68J0Y30XFK003C</td>\n",
       "      <td>120</td>\n",
       "      <td>Leanback</td>\n",
       "      <td>LiveTV</td>\n",
       "      <td>Sonic The Hedgehog</td>\n",
       "    </tr>\n",
       "  </tbody>\n",
       "</table>\n",
       "</div>"
      ],
      "text/plain": [
       "     DateID  ...                 VideoTitle\n",
       "0  20201101  ...  F1 '20: Emilia Romagna GP\n",
       "1  20201101  ...  F1 '20: Emilia Romagna GP\n",
       "2  20201101  ...            Chasing The Sun\n",
       "3  20201101  ...            Chasing The Sun\n",
       "4  20201101  ...         Sonic The Hedgehog\n",
       "\n",
       "[5 rows x 6 columns]"
      ]
     },
     "execution_count": 4,
     "metadata": {},
     "output_type": "execute_result"
    }
   ],
   "source": [
    "# I want to check the dimensions of my data\n",
    "df.info()\n",
    "\n",
    "# Preview top records\n",
    "df.head(5)\n"
   ]
  },
  {
   "cell_type": "code",
   "execution_count": 0,
   "metadata": {
    "application/vnd.databricks.v1+cell": {
     "cellMetadata": {
      "byteLimit": 2048000,
      "rowLimit": 10000
     },
     "inputWidgets": {},
     "nuid": "38c4fa7f-6474-40a1-bb15-15ca0827591e",
     "showTitle": false,
     "tableResultSettingsMap": {},
     "title": ""
    }
   },
   "outputs": [
    {
     "output_type": "execute_result",
     "data": {
      "text/html": [
       "<div>\n",
       "<style scoped>\n",
       "    .dataframe tbody tr th:only-of-type {\n",
       "        vertical-align: middle;\n",
       "    }\n",
       "\n",
       "    .dataframe tbody tr th {\n",
       "        vertical-align: top;\n",
       "    }\n",
       "\n",
       "    .dataframe thead th {\n",
       "        text-align: right;\n",
       "    }\n",
       "</style>\n",
       "<table border=\"1\" class=\"dataframe\">\n",
       "  <thead>\n",
       "    <tr style=\"text-align: right;\">\n",
       "      <th></th>\n",
       "      <th>TotalTimeWatched</th>\n",
       "    </tr>\n",
       "  </thead>\n",
       "  <tbody>\n",
       "    <tr>\n",
       "      <th>count</th>\n",
       "      <td>118534.000000</td>\n",
       "    </tr>\n",
       "    <tr>\n",
       "      <th>mean</th>\n",
       "      <td>2046.869860</td>\n",
       "    </tr>\n",
       "    <tr>\n",
       "      <th>std</th>\n",
       "      <td>3735.512071</td>\n",
       "    </tr>\n",
       "    <tr>\n",
       "      <th>min</th>\n",
       "      <td>1.000000</td>\n",
       "    </tr>\n",
       "    <tr>\n",
       "      <th>25%</th>\n",
       "      <td>240.000000</td>\n",
       "    </tr>\n",
       "    <tr>\n",
       "      <th>50%</th>\n",
       "      <td>1020.000000</td>\n",
       "    </tr>\n",
       "    <tr>\n",
       "      <th>75%</th>\n",
       "      <td>2400.000000</td>\n",
       "    </tr>\n",
       "    <tr>\n",
       "      <th>max</th>\n",
       "      <td>88500.000000</td>\n",
       "    </tr>\n",
       "  </tbody>\n",
       "</table>\n",
       "</div>"
      ],
      "text/plain": [
       "       TotalTimeWatched\n",
       "count     118534.000000\n",
       "mean        2046.869860\n",
       "std         3735.512071\n",
       "min            1.000000\n",
       "25%          240.000000\n",
       "50%         1020.000000\n",
       "75%         2400.000000\n",
       "max        88500.000000"
      ]
     },
     "execution_count": 5,
     "metadata": {},
     "output_type": "execute_result"
    }
   ],
   "source": [
    "#I am also in generating summary statistics to get a sense of the statistical distribution of that data.\n",
    "df.describe()\n"
   ]
  },
  {
   "cell_type": "code",
   "execution_count": 0,
   "metadata": {
    "application/vnd.databricks.v1+cell": {
     "cellMetadata": {
      "byteLimit": 2048000,
      "rowLimit": 10000
     },
     "inputWidgets": {},
     "nuid": "8458f60e-3ce5-4c54-ba7e-e18b3b31e72c",
     "showTitle": false,
     "tableResultSettingsMap": {},
     "title": ""
    }
   },
   "outputs": [
    {
     "output_type": "execute_result",
     "data": {
      "text/plain": [
       "DateID              0\n",
       "CustomerID          0\n",
       "TotalTimeWatched    0\n",
       "Platform            0\n",
       "PlayEventType       0\n",
       "VideoTitle          0\n",
       "dtype: int64"
      ]
     },
     "execution_count": 6,
     "metadata": {},
     "output_type": "execute_result"
    }
   ],
   "source": [
    "#I am also interested in looking at the missing values per column, so that we can handle them if and where necessary.\n",
    "\n",
    "df.isnull().sum()"
   ]
  },
  {
   "cell_type": "code",
   "execution_count": 0,
   "metadata": {
    "application/vnd.databricks.v1+cell": {
     "cellMetadata": {
      "byteLimit": 2048000,
      "rowLimit": 10000
     },
     "inputWidgets": {},
     "nuid": "856bb3e3-d942-4192-bef9-3e550fe4c7cd",
     "showTitle": false,
     "tableResultSettingsMap": {},
     "title": ""
    }
   },
   "outputs": [],
   "source": [
    "#Next, I want to see if we have any duplicates\n",
    "df.duplicated().sum()\n",
    "\n",
    "# Optionally drop them\n",
    "df = df.drop_duplicates()"
   ]
  }
 ],
 "metadata": {
  "application/vnd.databricks.v1+notebook": {
   "computePreferences": null,
   "dashboards": [],
   "environmentMetadata": null,
   "inputWidgetPreferences": null,
   "language": "python",
   "notebookMetadata": {
    "mostRecentlyExecutedCommandWithImplicitDF": {
     "commandId": -1,
     "dataframes": [
      "_sqldf"
     ]
    },
    "pythonIndentUnit": 2
   },
   "notebookName": "EDA Viewership Dat",
   "widgets": {}
  },
  "language_info": {
   "name": "python"
  }
 },
 "nbformat": 4,
 "nbformat_minor": 0
}